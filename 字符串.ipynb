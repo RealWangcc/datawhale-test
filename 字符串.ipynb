{
 "cells": [
  {
   "cell_type": "markdown",
   "metadata": {},
   "source": [
    "### 1. 无重复字符的最长子串"
   ]
  },
  {
   "cell_type": "markdown",
   "metadata": {},
   "source": [
    "给定一个字符串，请你找出其中不含有重复字符的最长子串的长度。\n",
    "\n",
    "示例1\n",
    "\n",
    "输入: \"abcabcbb\"\n",
    "\n",
    "输出: 3 \n",
    "\n",
    "解释: 因为无重复字符的最长子串是 \"abc\"，所以其长度为 3。\n",
    "\n",
    "示例2\n",
    "\n",
    "输入: \"bbbbb\"\n",
    "\n",
    "输出: 1\n",
    "\n",
    "解释: 因为无重复字符的最长子串是 \"b\"，所以其长度为 1。\n",
    "\n",
    "示例3\n",
    "\n",
    "输入: \"pwwkew\"\n",
    "\n",
    "输出: 3\n",
    "\n",
    "解释: 因为无重复字符的最长子串是 \"wke\"，所以其长度为 3。\n",
    "\n",
    "请注意，你的答案必须是 子串 的长度，\"pwke\" 是一个子序列，不是子串。"
   ]
  },
  {
   "cell_type": "code",
   "execution_count": 3,
   "metadata": {},
   "outputs": [
    {
     "data": {
      "text/plain": [
       "'\\n        #速度更快 比较难理解\\n        tmp={}\\n        l=0\\n        maxl=0\\n        for j in range(len(s)):\\n            if s[j] in tmp:\\n                l=max(tmp[s[j]],l)\\n            maxl=max(maxl,j-l+1)\\n            tmp[s[j]]=j+1\\n        return maxl\\n'"
      ]
     },
     "execution_count": 3,
     "metadata": {},
     "output_type": "execute_result"
    }
   ],
   "source": [
    "class Solution(object):\n",
    "    def lengthOfLongestSubstring(self, s):\n",
    "        \"\"\"\n",
    "        :type s: str\n",
    "        :rtype: int\n",
    "        \"\"\"\n",
    "        tmp=[]\n",
    "        maxl=0\n",
    "        l=0\n",
    "        r=0\n",
    "        while l<=r and r<=len(s)-1:\n",
    "            if s[r] not in tmp:\n",
    "                tmp.append(s[r])\n",
    "                r+=1\n",
    "                maxl=max(len(tmp),maxl)\n",
    "            else:\n",
    "                if s[l] in tmp:\n",
    "                    tmp.remove(s[l])\n",
    "                    l+=1\n",
    "        return maxl\n",
    "    \n",
    "\"\"\"\n",
    "        #速度更快 比较难理解\n",
    "        tmp={}\n",
    "        l=0\n",
    "        maxl=0\n",
    "        for j in range(len(s)):\n",
    "            if s[j] in tmp:\n",
    "                l=max(tmp[s[j]],l)\n",
    "            maxl=max(maxl,j-l+1)\n",
    "            tmp[s[j]]=j+1\n",
    "        return maxl\n",
    "\"\"\""
   ]
  },
  {
   "cell_type": "markdown",
   "metadata": {},
   "source": [
    "通过滑动窗口的方法，左右指针分别为不断更新的不包含重复字符串的边界，设一个备用数组储蓄不同结果。\n",
    "\n",
    "从头开始遍历字符串序列，右指针指向遍历到的位置，当遇到不在备用数组内的字符串时将其储存在备用数组里，并随时更新数组最大长度，当遇到在备用数组内的字符时，从左指针位置向前搜寻直到找到与右指针重复的字符位置，并将搜寻经过的字符从备用数组里删去，直至遍历完完整字符串序列。"
   ]
  },
  {
   "cell_type": "markdown",
   "metadata": {},
   "source": [
    "### 2. 串联所有单词的子串"
   ]
  },
  {
   "cell_type": "markdown",
   "metadata": {},
   "source": [
    "给定一个字符串 s 和一些长度相同的单词 words。找出 s 中恰好可以由 words 中所有单词串联形成的子串的起始位置。\n",
    "\n",
    "注意子串要与 words 中的单词完全匹配，中间不能有其他字符，但不需要考虑 words 中单词串联的顺序。\n"
   ]
  },
  {
   "cell_type": "code",
   "execution_count": null,
   "metadata": {},
   "outputs": [],
   "source": [
    "class Solution(object):\n",
    "    def findSubstring(self, s, words):\n",
    "        \"\"\"\n",
    "        :type s: str\n",
    "        :type words: List[str]\n",
    "        :rtype: List[int]\n",
    "        \"\"\"\n",
    "        from collections import Counter\n",
    "        if not s or not words:\n",
    "            return []\n",
    "\n",
    "        words_len = len(words[0])           # 一个单词的长度\n",
    "        words_num = len(words)              # words中单词的个数\n",
    "        words_cnt = Counter(words)          # {'foo': 1, 'bar': 1}\n",
    "        s_len = len(s)                      # 字符串s的长度\n",
    "        res = []                            # 存储起始位置\n",
    "\n",
    "        W = words_len * words_num           # 此处窗口大小为 2*3\n",
    "        left = 0\n",
    "        while (left + W) <= s_len:\n",
    "            tmp = []\n",
    "            i = left\n",
    "            for j in range(words_num):       # 将窗口内的字符串添加到tmp中\n",
    "                tmp.append(s[i:i + words_len])\n",
    "                i = i + words_len\n",
    "            tmp = Counter(tmp)\n",
    "            if tmp == words_cnt:\n",
    "                res.append(left)\n",
    "                left = left + 1\n",
    "            else:\n",
    "                left = left + 1\n",
    "        return res"
   ]
  },
  {
   "cell_type": "markdown",
   "metadata": {},
   "source": [
    "本题解法参考了 leetcode：\n",
    "\n",
    "从左向右每个字符每个字符遍历字符串s，按照单词长度切割，最后和哈希（words）进行比较\n",
    "\n",
    "每遍历一次，记录相应复合条件的位置\n",
    "\n",
    "输出位置集合"
   ]
  },
  {
   "cell_type": "markdown",
   "metadata": {},
   "source": [
    "### 3. 替换子串得到平衡字符串\n",
    "\n",
    "有一个只含有'Q', 'W', 'E','R'四种字符，且长度为 n的字符串。假如在该字符串中，这四个字符都恰好出现n/4次，那么它就\n",
    "\n",
    "是一个「平衡字符串」。\n",
    "\n",
    "给你一个这样的字符串 s，请通过「替换一个子串」的方式，使原字符串 s变成一个「平衡字符串」。你可以用和「待替换子\n",
    "\n",
    "串」长度相同的任何其他字符串来完成替换。\n",
    "\n",
    "请返回待替换子串的最小可能长度。\n",
    "\n",
    "如果原字符串自身就是一个平衡字符串，则返回 0。"
   ]
  },
  {
   "cell_type": "code",
   "execution_count": 4,
   "metadata": {},
   "outputs": [],
   "source": [
    "class Solution:\n",
    "    def balancedString(self, s: str) -> int:\n",
    "        n = len(s)\n",
    "        b = n // 4\n",
    "        from collections import Counter\n",
    "        counter = Counter(s)\n",
    "        counter = {key:value for key,value in counter.items() if value > b}\n",
    "        \n",
    "        if not counter or n < 4:\n",
    "            return 0\n",
    "        rmove = True\n",
    "        \n",
    "        l,r = 0,0\n",
    "        minlen = n\n",
    "        \n",
    "        while l <= r and r < n:\n",
    "            \n",
    "            if s[r] in counter and rmove:\n",
    "                counter[s[r]] -= 1\n",
    "            elif l > 0 and s[l - 1] in counter and not rmove:\n",
    "                counter[s[l - 1]] += 1\n",
    "\n",
    "            if {key:value for key,value in counter.items() if value > b}:\n",
    "                r += 1\n",
    "                rmove = True\n",
    "            else:\n",
    "                minlen = min(minlen, r - l + 1)\n",
    "                l += 1\n",
    "                rmove = False\n",
    "                         \n",
    "        return minlen"
   ]
  },
  {
   "cell_type": "markdown",
   "metadata": {},
   "source": [
    "统计字符个数\n",
    "\n",
    "只考虑大于n // 4的字符，目标找到最短的子串将这些多的字符替换掉。\n",
    "\n",
    "窗口中s[l,r]就是子串candidate:\n",
    "\n",
    "1）如果子串里包含了足够多要替换的字符，则l += 1， 缩小考察范围；\n",
    "\n",
    "2）如果子串里需要换掉的字符不够，则r += 1，考察更多的字符；"
   ]
  },
  {
   "cell_type": "code",
   "execution_count": null,
   "metadata": {},
   "outputs": [],
   "source": []
  }
 ],
 "metadata": {
  "kernelspec": {
   "display_name": "Python 3",
   "language": "python",
   "name": "python3"
  },
  "language_info": {
   "codemirror_mode": {
    "name": "ipython",
    "version": 3
   },
   "file_extension": ".py",
   "mimetype": "text/x-python",
   "name": "python",
   "nbconvert_exporter": "python",
   "pygments_lexer": "ipython3",
   "version": "3.7.0"
  }
 },
 "nbformat": 4,
 "nbformat_minor": 2
}
